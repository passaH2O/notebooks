{
 "cells": [
  {
   "cell_type": "markdown",
   "metadata": {},
   "source": [
    "### Purpose:\n",
    " - Download retrospective hourly analysis & assimilation NWM files from the Google Cloud archive\n",
    " - Run the cells in order to import libraries, select parameters, define functions, and download files\n",
    "    \n",
    "### Inputs:\n",
    " - (1) begin date for data retrieval\n",
    " - (2) end date for data retrieval (inclusive)\n",
    " - (3) desired product (channel routing or forcing)\n",
    " - (4) directory for downloaded files\n",
    " - (5) max. # of download requests per file"
   ]
  },
  {
   "cell_type": "code",
   "execution_count": null,
   "metadata": {
    "tags": []
   },
   "outputs": [],
   "source": [
    "# import python libraries\n",
    "\n",
    "import os\n",
    "import pandas as pd\n",
    "import requests\n",
    "import sys\n",
    "\n",
    "from time import sleep\n",
    "from tqdm.auto import trange"
   ]
  },
  {
   "cell_type": "code",
   "execution_count": null,
   "metadata": {},
   "outputs": [],
   "source": [
    "# select input parameters\n",
    "\n",
    "begindate = '20210918' # data is avail. beginning 20180917\n",
    "enddate = '20210919' # inclusive\n",
    "product = 'channel_rt' # 'channel_rt' or 'forcing'\n",
    "destfolder = r'C:\\Users\\mkw2538\\Coding\\Notebooks\\test' # directory will be created if it does not already exist. use raw string for Windows paths\n",
    "max_requests = 30 # max. # of download requests"
   ]
  },
  {
   "cell_type": "code",
   "execution_count": null,
   "metadata": {},
   "outputs": [],
   "source": [
    "# define functions\n",
    "\n",
    "def get_netcdf(filetype,begin_date,end_date,output_folder,max_attempts):\n",
    "    \n",
    "    if not os.path.exists(output_folder):\n",
    "        os.mkdir(output_folder)\n",
    "    \n",
    "    if filetype =='channel_rt':\n",
    "        prodstr = ''\n",
    "    elif filetype == 'forcing':\n",
    "        prodstr = 'forcing_'\n",
    "    else:\n",
    "        print(\"Product error. Choose 'channel_rt' or 'forcing'.\")\n",
    "        sys.exit()\n",
    "        \n",
    "    \n",
    "    t1 = pd.to_datetime(begin_date)\n",
    "    t2 = pd.to_datetime(end_date)\n",
    "    dates = pd.date_range(t1,t2)\n",
    "    \n",
    "    # use trange to print status bar\n",
    "    for i in trange(len(dates), desc='Total'):\n",
    "        date = dates[i]\n",
    "        save_dir = date.strftime('%Y%m%d')\n",
    "        \n",
    "        if not os.path.exists(output_folder+'/'+save_dir):\n",
    "            os.mkdir(output_folder+'/'+save_dir)\n",
    "            \n",
    "        for hr in trange(24, desc=save_dir, leave=False):\n",
    "            \n",
    "            url = f'https://storage.googleapis.com/national-water-model/' \\\n",
    "                  f'nwm.{date.strftime(\"%Y%m%d\")}/{prodstr}analysis_assim/' \\\n",
    "                  f'nwm.t{str(hr).zfill(2)}z.analysis_assim.{filetype}.tm00.conus.nc'\n",
    "            \n",
    "            filename = os.path.basename(url)\n",
    "            write_file = os.path.join(output_folder, save_dir, filename)\n",
    "\n",
    "            for attempt in range(max_attempts):\n",
    "                try:\n",
    "                    r = requests.get(url)\n",
    "                    with open(write_file, 'wb') as f:\n",
    "                        f.write(r.content)\n",
    "                    break\n",
    "                except Exception as ex:\n",
    "                    if attempt != max_attempts - 1:\n",
    "                        sleep(0.5)  # Give NOAA time to wake up\n",
    "                    else:\n",
    "                        m = 'Could not download file.\\n' + str(ex)\n",
    "                        raise Exception(m)"
   ]
  },
  {
   "cell_type": "code",
   "execution_count": null,
   "metadata": {},
   "outputs": [],
   "source": [
    "# download files\n",
    "\n",
    "get_netcdf(product,begindate,enddate,destfolder,max_requests)"
   ]
  }
 ],
 "metadata": {
  "kernelspec": {
   "display_name": "Python [conda env:Coding-py39]",
   "language": "python",
   "name": "conda-env-Coding-py39-py"
  },
  "language_info": {
   "codemirror_mode": {
    "name": "ipython",
    "version": 3
   },
   "file_extension": ".py",
   "mimetype": "text/x-python",
   "name": "python",
   "nbconvert_exporter": "python",
   "pygments_lexer": "ipython3",
   "version": "3.9.6"
  }
 },
 "nbformat": 4,
 "nbformat_minor": 4
}
