{
 "cells": [
  {
   "cell_type": "markdown",
   "metadata": {},
   "source": [
    "### Purpose:\n",
    " - Download retrospective hourly analysis & assimilation NWM files from the Google Cloud archive\n",
    " - Obtain and plot the discharge time series of a stream of interest\n",
    " - Run the cells in order to import libraries, select parameters, define functions, download files, and plot a discharge series\n",
    "    \n",
    "### Inputs:\n",
    " - (1) begin date for data retrieval\n",
    " - (2) end date for data retrieval (inclusive)\n",
    " - (3) desired product (channel routing or forcing)\n",
    " - (4) directory for downloaded files"
   ]
  },
  {
   "cell_type": "code",
   "execution_count": 1,
   "metadata": {
    "tags": []
   },
   "outputs": [],
   "source": [
    "# import python libraries\n",
    "\n",
    "import matplotlib.pyplot as plt\n",
    "import os\n",
    "import pandas as pd\n",
    "import requests\n",
    "import sys\n",
    "import xarray as xr\n",
    "\n",
    "from matplotlib.dates import DateFormatter\n",
    "from time import sleep\n"
   ]
  },
  {
   "cell_type": "code",
   "execution_count": 2,
   "metadata": {},
   "outputs": [],
   "source": [
    "# select input parameters\n",
    "\n",
    "begindate = \"20190915\"  # data is avail. beginning 20180917\n",
    "enddate = \"20190930\"  # inclusive\n",
    "product = \"channel_rt\"  # 'channel_rt' or 'forcing'\n",
    "destfolder_name = \"test\"  # directory will be created in current working directory if it does not already exist\n"
   ]
  },
  {
   "cell_type": "code",
   "execution_count": 3,
   "metadata": {},
   "outputs": [],
   "source": [
    "# define functions\n",
    "\n",
    "\n",
    "def get_netcdf(filetype, begin_date, end_date, output_folder_name):\n",
    "\n",
    "    output_folder = os.path.join(os.getcwd(), output_folder_name)\n",
    "\n",
    "    if not os.path.exists(output_folder):\n",
    "        os.mkdir(output_folder)\n",
    "\n",
    "    if filetype == \"channel_rt\":\n",
    "        prodstr = \"\"\n",
    "    elif filetype == \"forcing\":\n",
    "        prodstr = \"forcing_\"\n",
    "    else:\n",
    "        print(\"Product error. Choose 'channel_rt' or 'forcing'.\")\n",
    "        sys.exit()\n",
    "\n",
    "    t1 = pd.to_datetime(begin_date)\n",
    "    t2 = pd.to_datetime(end_date)\n",
    "    dates = pd.date_range(t1, t2)\n",
    "\n",
    "    for i in range(len(dates)):\n",
    "        date = dates[i]\n",
    "        save_dir = date.strftime(\"%Y%m%d\")\n",
    "\n",
    "        if not os.path.exists(output_folder + \"/\" + save_dir):\n",
    "            os.mkdir(output_folder + \"/\" + save_dir)\n",
    "\n",
    "        for hr in range(24):\n",
    "\n",
    "            url = (\n",
    "                f\"https://storage.googleapis.com/national-water-model/\"\n",
    "                f'nwm.{date.strftime(\"%Y%m%d\")}/{prodstr}analysis_assim/'\n",
    "                f\"nwm.t{str(hr).zfill(2)}z.analysis_assim.{filetype}.tm00.conus.nc\"\n",
    "            )\n",
    "\n",
    "            filename = os.path.basename(url)\n",
    "            write_file = os.path.join(output_folder, save_dir, filename)\n",
    "\n",
    "            for attempt in range(30):\n",
    "                try:\n",
    "                    r = requests.get(url)\n",
    "                    with open(write_file, \"wb\") as f:\n",
    "                        f.write(r.content)\n",
    "                    break\n",
    "                except Exception as ex:\n",
    "                    if attempt != max_attempts - 1:\n",
    "                        sleep(0.5)  # Give NOAA time to wake up\n",
    "                    else:\n",
    "                        m = \"Could not download file.\\n\" + str(ex)\n",
    "                        raise Exception(m)\n",
    "\n",
    "        print(f\"{save_dir} done\")\n",
    "\n",
    "\n",
    "def get_series(comid, begin_date, end_date, datafolder_name, filetype):\n",
    "\n",
    "    data_folder = os.path.join(os.getcwd(), datafolder_name)\n",
    "\n",
    "    t1 = pd.to_datetime(begin_date)\n",
    "    t2 = pd.to_datetime(end_date)\n",
    "    dates = pd.date_range(t1, t2)\n",
    "\n",
    "    df = pd.DataFrame()\n",
    "\n",
    "    for i in range(len(dates)):\n",
    "        date = dates[i]\n",
    "        date_dir = date.strftime(\"%Y%m%d\")\n",
    "\n",
    "        for hr in range(24):\n",
    "            filename = f\"nwm.t{str(hr).zfill(2)}z.analysis_assim.{filetype}.tm00.conus.nc\"\n",
    "            nc_file = os.path.join(data_folder, date_dir, filename)\n",
    "            data = xr.open_dataset(nc_file)\n",
    "            Q = float(data.sel(feature_id=comid).streamflow.values)\n",
    "            # time given in \"minutes since 1970-01-01 00:00:00 UTC\"\n",
    "            tdval = data.sel(feature_id=comid).time.values\n",
    "            td = pd.Timedelta(minutes=td)\n",
    "            timestamp = pd.to_datetime(\"1970-01-01 00:00:00 UTC\") + td\n",
    "            df.loc[timestamp, \"Q\"] = Q\n",
    "\n",
    "    return df\n"
   ]
  },
  {
   "cell_type": "code",
   "execution_count": 4,
   "metadata": {},
   "outputs": [
    {
     "name": "stdout",
     "output_type": "stream",
     "text": [
      "20190915 done\n",
      "20190916 done\n",
      "20190917 done\n",
      "20190918 done\n",
      "20190919 done\n",
      "20190920 done\n",
      "20190921 done\n",
      "20190922 done\n",
      "20190923 done\n",
      "20190924 done\n",
      "20190925 done\n",
      "20190926 done\n",
      "20190927 done\n",
      "20190928 done\n",
      "20190929 done\n",
      "20190930 done\n"
     ]
    }
   ],
   "source": [
    "# download files\n",
    "\n",
    "get_netcdf(product, begindate, enddate, destfolder_name)\n"
   ]
  },
  {
   "cell_type": "code",
   "execution_count": 5,
   "metadata": {},
   "outputs": [],
   "source": [
    "# extract a discharge time series for an individual stream from the downloaded files\n",
    "# this example shows a reach of the Sabine River in Southeast Texas during TS Imelda\n",
    "# compare: https://nwis.waterdata.usgs.gov/nwis/uv?cb_00060=on&cb_00065=on&format=gif_default&site_no=08030500&period=&begin_date=2019-09-15&end_date=2019-09-30\n",
    "\n",
    "comid = 8331880  # Sabine river near USGS gage 08030500\n",
    "sabine_timeseries_df = get_series(\n",
    "    comid, begindate, enddate, destfolder_name, product\n",
    ")\n"
   ]
  },
  {
   "cell_type": "code",
   "execution_count": 6,
   "metadata": {},
   "outputs": [
    {
     "data": {
      "image/png": "[encoded data removed]",
      "text/plain": [
       "<Figure size 720x432 with 1 Axes>"
      ]
     },
     "metadata": {
      "needs_background": "light"
     },
     "output_type": "display_data"
    }
   ],
   "source": [
    "# plot the discharge time series\n",
    "\n",
    "plt.rc(\"font\", size=14)\n",
    "\n",
    "fig, ax = plt.subplots(figsize=(10, 6))\n",
    "ax.plot(sabine_timeseries_df, color=\"tab:blue\", label=\"Q\")\n",
    "ax.set(\n",
    "    xlabel=\"Date\",\n",
    "    ylabel=\"Discharge [cms]\",\n",
    "    title=f\"COMID {comid} from \"\n",
    "    f'{pd.to_datetime(begindate).strftime(\"%b %d %Y\")} to '\n",
    "    f'{pd.to_datetime(enddate).strftime(\"%b %d %Y\")}',\n",
    ")\n",
    "date_form = DateFormatter(\"%b %d\")\n",
    "ax.xaxis.set_major_formatter(date_form)\n",
    "ax.legend()\n",
    "ax.grid(True)\n"
   ]
  }
 ],
 "metadata": {
  "kernelspec": {
   "display_name": "Python 3",
   "language": "python",
   "name": "python3"
  },
  "language_info": {
   "codemirror_mode": {
    "name": "ipython",
    "version": 3
   },
   "file_extension": ".py",
   "mimetype": "text/x-python",
   "name": "python",
   "nbconvert_exporter": "python",
   "pygments_lexer": "ipython3",
   "version": "3.10.5"
  },
  "vscode": {
   "interpreter": {
    "hash": "f495720fd4e62ac3edfedb951329873889a5dcf6e6c0cb1e5a7b0d2770d51a8a"
   }
  }
 },
 "nbformat": 4,
 "nbformat_minor": 4
}
